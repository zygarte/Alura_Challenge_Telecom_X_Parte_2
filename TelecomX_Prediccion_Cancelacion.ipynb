{
  "cells": [
    {
      "cell_type": "markdown",
      "metadata": {
        "id": "view-in-github",
        "colab_type": "text"
      },
      "source": [
        "<a href=\"https://colab.research.google.com/github/zygarte/Alura_Challenge_Telecom_X_Parte_2/blob/main/TelecomX_Prediccion_Cancelacion.ipynb\" target=\"_parent\"><img src=\"https://colab.research.google.com/assets/colab-badge.svg\" alt=\"Open In Colab\"/></a>"
      ]
    },
    {
      "cell_type": "markdown",
      "id": "f1912089",
      "metadata": {
        "id": "f1912089"
      },
      "source": [
        "# 📈 Telecom X - Predicción de Cancelación de Clientes (Churn)"
      ]
    },
    {
      "cell_type": "markdown",
      "id": "7585f35c",
      "metadata": {
        "id": "7585f35c"
      },
      "source": [
        "Después del análisis exploratorio, este notebook implementa un pipeline de Machine Learning para predecir la cancelación de clientes de Telecom X.\n",
        "\n",
        "## 🎯 Objetivos:\n",
        "- Preparar los datos para modelado\n",
        "- Entrenar y evaluar modelos predictivos\n",
        "- Identificar factores más relevantes para la cancelación"
      ]
    },
    {
      "cell_type": "code",
      "execution_count": 1,
      "id": "6f06694d",
      "metadata": {
        "id": "6f06694d"
      },
      "outputs": [],
      "source": [
        "import pandas as pd\n",
        "import numpy as np\n",
        "import seaborn as sns\n",
        "import matplotlib.pyplot as plt\n",
        "\n",
        "from sklearn.model_selection import train_test_split\n",
        "from sklearn.preprocessing import StandardScaler\n",
        "from sklearn.linear_model import LogisticRegression\n",
        "from sklearn.ensemble import RandomForestClassifier\n",
        "from sklearn.metrics import classification_report, confusion_matrix, ConfusionMatrixDisplay\n",
        "\n",
        "sns.set(style=\"whitegrid\")\n"
      ]
    },
    {
      "cell_type": "markdown",
      "id": "6dc9bd5f",
      "metadata": {
        "id": "6dc9bd5f"
      },
      "source": [
        "## 1. Carga de Datos"
      ]
    },
    {
      "cell_type": "code",
      "execution_count": 3,
      "id": "9e2dfe83",
      "metadata": {
        "colab": {
          "base_uri": "https://localhost:8080/",
          "height": 226
        },
        "id": "9e2dfe83",
        "outputId": "a0289ac2-1c7a-4eec-e90e-16c4ad026d1a"
      },
      "outputs": [
        {
          "output_type": "execute_result",
          "data": {
            "text/plain": [
              "  Churn customer.gender  customer.SeniorCitizen customer.Partner  \\\n",
              "0    No          Female                       0              Yes   \n",
              "1    No            Male                       0               No   \n",
              "2   Yes            Male                       0               No   \n",
              "3   Yes            Male                       1              Yes   \n",
              "4   Yes          Female                       1              Yes   \n",
              "\n",
              "  customer.Dependents  customer.tenure phone.PhoneService phone.MultipleLines  \\\n",
              "0                 Yes                9                Yes                  No   \n",
              "1                  No                9                Yes                 Yes   \n",
              "2                  No                4                Yes                  No   \n",
              "3                  No               13                Yes                  No   \n",
              "4                  No                3                Yes                  No   \n",
              "\n",
              "  internet.InternetService internet.OnlineSecurity internet.OnlineBackup  \\\n",
              "0                      DSL                      No                   Yes   \n",
              "1                      DSL                      No                    No   \n",
              "2              Fiber optic                      No                    No   \n",
              "3              Fiber optic                      No                   Yes   \n",
              "4              Fiber optic                      No                    No   \n",
              "\n",
              "  internet.DeviceProtection internet.TechSupport internet.StreamingTV  \\\n",
              "0                        No                  Yes                  Yes   \n",
              "1                        No                   No                   No   \n",
              "2                       Yes                   No                   No   \n",
              "3                       Yes                   No                  Yes   \n",
              "4                        No                  Yes                  Yes   \n",
              "\n",
              "  internet.StreamingMovies account.Contract account.PaperlessBilling  \\\n",
              "0                       No         One year                      Yes   \n",
              "1                      Yes   Month-to-month                       No   \n",
              "2                       No   Month-to-month                      Yes   \n",
              "3                      Yes   Month-to-month                      Yes   \n",
              "4                       No   Month-to-month                      Yes   \n",
              "\n",
              "  account.PaymentMethod  account.Charges.Monthly account.Charges.Total  \n",
              "0          Mailed check                     65.6                 593.3  \n",
              "1          Mailed check                     59.9                 542.4  \n",
              "2      Electronic check                     73.9                280.85  \n",
              "3      Electronic check                     98.0               1237.85  \n",
              "4          Mailed check                     83.9                 267.4  "
            ],
            "text/html": [
              "\n",
              "  <div id=\"df-965f7dce-4c9d-4757-94ec-6affe97926cd\" class=\"colab-df-container\">\n",
              "    <div>\n",
              "<style scoped>\n",
              "    .dataframe tbody tr th:only-of-type {\n",
              "        vertical-align: middle;\n",
              "    }\n",
              "\n",
              "    .dataframe tbody tr th {\n",
              "        vertical-align: top;\n",
              "    }\n",
              "\n",
              "    .dataframe thead th {\n",
              "        text-align: right;\n",
              "    }\n",
              "</style>\n",
              "<table border=\"1\" class=\"dataframe\">\n",
              "  <thead>\n",
              "    <tr style=\"text-align: right;\">\n",
              "      <th></th>\n",
              "      <th>Churn</th>\n",
              "      <th>customer.gender</th>\n",
              "      <th>customer.SeniorCitizen</th>\n",
              "      <th>customer.Partner</th>\n",
              "      <th>customer.Dependents</th>\n",
              "      <th>customer.tenure</th>\n",
              "      <th>phone.PhoneService</th>\n",
              "      <th>phone.MultipleLines</th>\n",
              "      <th>internet.InternetService</th>\n",
              "      <th>internet.OnlineSecurity</th>\n",
              "      <th>internet.OnlineBackup</th>\n",
              "      <th>internet.DeviceProtection</th>\n",
              "      <th>internet.TechSupport</th>\n",
              "      <th>internet.StreamingTV</th>\n",
              "      <th>internet.StreamingMovies</th>\n",
              "      <th>account.Contract</th>\n",
              "      <th>account.PaperlessBilling</th>\n",
              "      <th>account.PaymentMethod</th>\n",
              "      <th>account.Charges.Monthly</th>\n",
              "      <th>account.Charges.Total</th>\n",
              "    </tr>\n",
              "  </thead>\n",
              "  <tbody>\n",
              "    <tr>\n",
              "      <th>0</th>\n",
              "      <td>No</td>\n",
              "      <td>Female</td>\n",
              "      <td>0</td>\n",
              "      <td>Yes</td>\n",
              "      <td>Yes</td>\n",
              "      <td>9</td>\n",
              "      <td>Yes</td>\n",
              "      <td>No</td>\n",
              "      <td>DSL</td>\n",
              "      <td>No</td>\n",
              "      <td>Yes</td>\n",
              "      <td>No</td>\n",
              "      <td>Yes</td>\n",
              "      <td>Yes</td>\n",
              "      <td>No</td>\n",
              "      <td>One year</td>\n",
              "      <td>Yes</td>\n",
              "      <td>Mailed check</td>\n",
              "      <td>65.6</td>\n",
              "      <td>593.3</td>\n",
              "    </tr>\n",
              "    <tr>\n",
              "      <th>1</th>\n",
              "      <td>No</td>\n",
              "      <td>Male</td>\n",
              "      <td>0</td>\n",
              "      <td>No</td>\n",
              "      <td>No</td>\n",
              "      <td>9</td>\n",
              "      <td>Yes</td>\n",
              "      <td>Yes</td>\n",
              "      <td>DSL</td>\n",
              "      <td>No</td>\n",
              "      <td>No</td>\n",
              "      <td>No</td>\n",
              "      <td>No</td>\n",
              "      <td>No</td>\n",
              "      <td>Yes</td>\n",
              "      <td>Month-to-month</td>\n",
              "      <td>No</td>\n",
              "      <td>Mailed check</td>\n",
              "      <td>59.9</td>\n",
              "      <td>542.4</td>\n",
              "    </tr>\n",
              "    <tr>\n",
              "      <th>2</th>\n",
              "      <td>Yes</td>\n",
              "      <td>Male</td>\n",
              "      <td>0</td>\n",
              "      <td>No</td>\n",
              "      <td>No</td>\n",
              "      <td>4</td>\n",
              "      <td>Yes</td>\n",
              "      <td>No</td>\n",
              "      <td>Fiber optic</td>\n",
              "      <td>No</td>\n",
              "      <td>No</td>\n",
              "      <td>Yes</td>\n",
              "      <td>No</td>\n",
              "      <td>No</td>\n",
              "      <td>No</td>\n",
              "      <td>Month-to-month</td>\n",
              "      <td>Yes</td>\n",
              "      <td>Electronic check</td>\n",
              "      <td>73.9</td>\n",
              "      <td>280.85</td>\n",
              "    </tr>\n",
              "    <tr>\n",
              "      <th>3</th>\n",
              "      <td>Yes</td>\n",
              "      <td>Male</td>\n",
              "      <td>1</td>\n",
              "      <td>Yes</td>\n",
              "      <td>No</td>\n",
              "      <td>13</td>\n",
              "      <td>Yes</td>\n",
              "      <td>No</td>\n",
              "      <td>Fiber optic</td>\n",
              "      <td>No</td>\n",
              "      <td>Yes</td>\n",
              "      <td>Yes</td>\n",
              "      <td>No</td>\n",
              "      <td>Yes</td>\n",
              "      <td>Yes</td>\n",
              "      <td>Month-to-month</td>\n",
              "      <td>Yes</td>\n",
              "      <td>Electronic check</td>\n",
              "      <td>98.0</td>\n",
              "      <td>1237.85</td>\n",
              "    </tr>\n",
              "    <tr>\n",
              "      <th>4</th>\n",
              "      <td>Yes</td>\n",
              "      <td>Female</td>\n",
              "      <td>1</td>\n",
              "      <td>Yes</td>\n",
              "      <td>No</td>\n",
              "      <td>3</td>\n",
              "      <td>Yes</td>\n",
              "      <td>No</td>\n",
              "      <td>Fiber optic</td>\n",
              "      <td>No</td>\n",
              "      <td>No</td>\n",
              "      <td>No</td>\n",
              "      <td>Yes</td>\n",
              "      <td>Yes</td>\n",
              "      <td>No</td>\n",
              "      <td>Month-to-month</td>\n",
              "      <td>Yes</td>\n",
              "      <td>Mailed check</td>\n",
              "      <td>83.9</td>\n",
              "      <td>267.4</td>\n",
              "    </tr>\n",
              "  </tbody>\n",
              "</table>\n",
              "</div>\n",
              "    <div class=\"colab-df-buttons\">\n",
              "\n",
              "  <div class=\"colab-df-container\">\n",
              "    <button class=\"colab-df-convert\" onclick=\"convertToInteractive('df-965f7dce-4c9d-4757-94ec-6affe97926cd')\"\n",
              "            title=\"Convert this dataframe to an interactive table.\"\n",
              "            style=\"display:none;\">\n",
              "\n",
              "  <svg xmlns=\"http://www.w3.org/2000/svg\" height=\"24px\" viewBox=\"0 -960 960 960\">\n",
              "    <path d=\"M120-120v-720h720v720H120Zm60-500h600v-160H180v160Zm220 220h160v-160H400v160Zm0 220h160v-160H400v160ZM180-400h160v-160H180v160Zm440 0h160v-160H620v160ZM180-180h160v-160H180v160Zm440 0h160v-160H620v160Z\"/>\n",
              "  </svg>\n",
              "    </button>\n",
              "\n",
              "  <style>\n",
              "    .colab-df-container {\n",
              "      display:flex;\n",
              "      gap: 12px;\n",
              "    }\n",
              "\n",
              "    .colab-df-convert {\n",
              "      background-color: #E8F0FE;\n",
              "      border: none;\n",
              "      border-radius: 50%;\n",
              "      cursor: pointer;\n",
              "      display: none;\n",
              "      fill: #1967D2;\n",
              "      height: 32px;\n",
              "      padding: 0 0 0 0;\n",
              "      width: 32px;\n",
              "    }\n",
              "\n",
              "    .colab-df-convert:hover {\n",
              "      background-color: #E2EBFA;\n",
              "      box-shadow: 0px 1px 2px rgba(60, 64, 67, 0.3), 0px 1px 3px 1px rgba(60, 64, 67, 0.15);\n",
              "      fill: #174EA6;\n",
              "    }\n",
              "\n",
              "    .colab-df-buttons div {\n",
              "      margin-bottom: 4px;\n",
              "    }\n",
              "\n",
              "    [theme=dark] .colab-df-convert {\n",
              "      background-color: #3B4455;\n",
              "      fill: #D2E3FC;\n",
              "    }\n",
              "\n",
              "    [theme=dark] .colab-df-convert:hover {\n",
              "      background-color: #434B5C;\n",
              "      box-shadow: 0px 1px 3px 1px rgba(0, 0, 0, 0.15);\n",
              "      filter: drop-shadow(0px 1px 2px rgba(0, 0, 0, 0.3));\n",
              "      fill: #FFFFFF;\n",
              "    }\n",
              "  </style>\n",
              "\n",
              "    <script>\n",
              "      const buttonEl =\n",
              "        document.querySelector('#df-965f7dce-4c9d-4757-94ec-6affe97926cd button.colab-df-convert');\n",
              "      buttonEl.style.display =\n",
              "        google.colab.kernel.accessAllowed ? 'block' : 'none';\n",
              "\n",
              "      async function convertToInteractive(key) {\n",
              "        const element = document.querySelector('#df-965f7dce-4c9d-4757-94ec-6affe97926cd');\n",
              "        const dataTable =\n",
              "          await google.colab.kernel.invokeFunction('convertToInteractive',\n",
              "                                                    [key], {});\n",
              "        if (!dataTable) return;\n",
              "\n",
              "        const docLinkHtml = 'Like what you see? Visit the ' +\n",
              "          '<a target=\"_blank\" href=https://colab.research.google.com/notebooks/data_table.ipynb>data table notebook</a>'\n",
              "          + ' to learn more about interactive tables.';\n",
              "        element.innerHTML = '';\n",
              "        dataTable['output_type'] = 'display_data';\n",
              "        await google.colab.output.renderOutput(dataTable, element);\n",
              "        const docLink = document.createElement('div');\n",
              "        docLink.innerHTML = docLinkHtml;\n",
              "        element.appendChild(docLink);\n",
              "      }\n",
              "    </script>\n",
              "  </div>\n",
              "\n",
              "\n",
              "    <div id=\"df-43fc4552-1078-49c7-b07d-8e15c7c1caec\">\n",
              "      <button class=\"colab-df-quickchart\" onclick=\"quickchart('df-43fc4552-1078-49c7-b07d-8e15c7c1caec')\"\n",
              "                title=\"Suggest charts\"\n",
              "                style=\"display:none;\">\n",
              "\n",
              "<svg xmlns=\"http://www.w3.org/2000/svg\" height=\"24px\"viewBox=\"0 0 24 24\"\n",
              "     width=\"24px\">\n",
              "    <g>\n",
              "        <path d=\"M19 3H5c-1.1 0-2 .9-2 2v14c0 1.1.9 2 2 2h14c1.1 0 2-.9 2-2V5c0-1.1-.9-2-2-2zM9 17H7v-7h2v7zm4 0h-2V7h2v10zm4 0h-2v-4h2v4z\"/>\n",
              "    </g>\n",
              "</svg>\n",
              "      </button>\n",
              "\n",
              "<style>\n",
              "  .colab-df-quickchart {\n",
              "      --bg-color: #E8F0FE;\n",
              "      --fill-color: #1967D2;\n",
              "      --hover-bg-color: #E2EBFA;\n",
              "      --hover-fill-color: #174EA6;\n",
              "      --disabled-fill-color: #AAA;\n",
              "      --disabled-bg-color: #DDD;\n",
              "  }\n",
              "\n",
              "  [theme=dark] .colab-df-quickchart {\n",
              "      --bg-color: #3B4455;\n",
              "      --fill-color: #D2E3FC;\n",
              "      --hover-bg-color: #434B5C;\n",
              "      --hover-fill-color: #FFFFFF;\n",
              "      --disabled-bg-color: #3B4455;\n",
              "      --disabled-fill-color: #666;\n",
              "  }\n",
              "\n",
              "  .colab-df-quickchart {\n",
              "    background-color: var(--bg-color);\n",
              "    border: none;\n",
              "    border-radius: 50%;\n",
              "    cursor: pointer;\n",
              "    display: none;\n",
              "    fill: var(--fill-color);\n",
              "    height: 32px;\n",
              "    padding: 0;\n",
              "    width: 32px;\n",
              "  }\n",
              "\n",
              "  .colab-df-quickchart:hover {\n",
              "    background-color: var(--hover-bg-color);\n",
              "    box-shadow: 0 1px 2px rgba(60, 64, 67, 0.3), 0 1px 3px 1px rgba(60, 64, 67, 0.15);\n",
              "    fill: var(--button-hover-fill-color);\n",
              "  }\n",
              "\n",
              "  .colab-df-quickchart-complete:disabled,\n",
              "  .colab-df-quickchart-complete:disabled:hover {\n",
              "    background-color: var(--disabled-bg-color);\n",
              "    fill: var(--disabled-fill-color);\n",
              "    box-shadow: none;\n",
              "  }\n",
              "\n",
              "  .colab-df-spinner {\n",
              "    border: 2px solid var(--fill-color);\n",
              "    border-color: transparent;\n",
              "    border-bottom-color: var(--fill-color);\n",
              "    animation:\n",
              "      spin 1s steps(1) infinite;\n",
              "  }\n",
              "\n",
              "  @keyframes spin {\n",
              "    0% {\n",
              "      border-color: transparent;\n",
              "      border-bottom-color: var(--fill-color);\n",
              "      border-left-color: var(--fill-color);\n",
              "    }\n",
              "    20% {\n",
              "      border-color: transparent;\n",
              "      border-left-color: var(--fill-color);\n",
              "      border-top-color: var(--fill-color);\n",
              "    }\n",
              "    30% {\n",
              "      border-color: transparent;\n",
              "      border-left-color: var(--fill-color);\n",
              "      border-top-color: var(--fill-color);\n",
              "      border-right-color: var(--fill-color);\n",
              "    }\n",
              "    40% {\n",
              "      border-color: transparent;\n",
              "      border-right-color: var(--fill-color);\n",
              "      border-top-color: var(--fill-color);\n",
              "    }\n",
              "    60% {\n",
              "      border-color: transparent;\n",
              "      border-right-color: var(--fill-color);\n",
              "    }\n",
              "    80% {\n",
              "      border-color: transparent;\n",
              "      border-right-color: var(--fill-color);\n",
              "      border-bottom-color: var(--fill-color);\n",
              "    }\n",
              "    90% {\n",
              "      border-color: transparent;\n",
              "      border-bottom-color: var(--fill-color);\n",
              "    }\n",
              "  }\n",
              "</style>\n",
              "\n",
              "      <script>\n",
              "        async function quickchart(key) {\n",
              "          const quickchartButtonEl =\n",
              "            document.querySelector('#' + key + ' button');\n",
              "          quickchartButtonEl.disabled = true;  // To prevent multiple clicks.\n",
              "          quickchartButtonEl.classList.add('colab-df-spinner');\n",
              "          try {\n",
              "            const charts = await google.colab.kernel.invokeFunction(\n",
              "                'suggestCharts', [key], {});\n",
              "          } catch (error) {\n",
              "            console.error('Error during call to suggestCharts:', error);\n",
              "          }\n",
              "          quickchartButtonEl.classList.remove('colab-df-spinner');\n",
              "          quickchartButtonEl.classList.add('colab-df-quickchart-complete');\n",
              "        }\n",
              "        (() => {\n",
              "          let quickchartButtonEl =\n",
              "            document.querySelector('#df-43fc4552-1078-49c7-b07d-8e15c7c1caec button');\n",
              "          quickchartButtonEl.style.display =\n",
              "            google.colab.kernel.accessAllowed ? 'block' : 'none';\n",
              "        })();\n",
              "      </script>\n",
              "    </div>\n",
              "\n",
              "    </div>\n",
              "  </div>\n"
            ],
            "application/vnd.google.colaboratory.intrinsic+json": {
              "type": "dataframe",
              "variable_name": "df",
              "summary": "{\n  \"name\": \"df\",\n  \"rows\": 7267,\n  \"fields\": [\n    {\n      \"column\": \"Churn\",\n      \"properties\": {\n        \"dtype\": \"category\",\n        \"num_unique_values\": 3,\n        \"samples\": [\n          \"No\",\n          \"Yes\",\n          \"\"\n        ],\n        \"semantic_type\": \"\",\n        \"description\": \"\"\n      }\n    },\n    {\n      \"column\": \"customer.gender\",\n      \"properties\": {\n        \"dtype\": \"category\",\n        \"num_unique_values\": 2,\n        \"samples\": [\n          \"Male\",\n          \"Female\"\n        ],\n        \"semantic_type\": \"\",\n        \"description\": \"\"\n      }\n    },\n    {\n      \"column\": \"customer.SeniorCitizen\",\n      \"properties\": {\n        \"dtype\": \"number\",\n        \"std\": 0,\n        \"min\": 0,\n        \"max\": 1,\n        \"num_unique_values\": 2,\n        \"samples\": [\n          1,\n          0\n        ],\n        \"semantic_type\": \"\",\n        \"description\": \"\"\n      }\n    },\n    {\n      \"column\": \"customer.Partner\",\n      \"properties\": {\n        \"dtype\": \"category\",\n        \"num_unique_values\": 2,\n        \"samples\": [\n          \"No\",\n          \"Yes\"\n        ],\n        \"semantic_type\": \"\",\n        \"description\": \"\"\n      }\n    },\n    {\n      \"column\": \"customer.Dependents\",\n      \"properties\": {\n        \"dtype\": \"category\",\n        \"num_unique_values\": 2,\n        \"samples\": [\n          \"No\",\n          \"Yes\"\n        ],\n        \"semantic_type\": \"\",\n        \"description\": \"\"\n      }\n    },\n    {\n      \"column\": \"customer.tenure\",\n      \"properties\": {\n        \"dtype\": \"number\",\n        \"std\": 24,\n        \"min\": 0,\n        \"max\": 72,\n        \"num_unique_values\": 73,\n        \"samples\": [\n          71,\n          53\n        ],\n        \"semantic_type\": \"\",\n        \"description\": \"\"\n      }\n    },\n    {\n      \"column\": \"phone.PhoneService\",\n      \"properties\": {\n        \"dtype\": \"category\",\n        \"num_unique_values\": 2,\n        \"samples\": [\n          \"No\",\n          \"Yes\"\n        ],\n        \"semantic_type\": \"\",\n        \"description\": \"\"\n      }\n    },\n    {\n      \"column\": \"phone.MultipleLines\",\n      \"properties\": {\n        \"dtype\": \"category\",\n        \"num_unique_values\": 3,\n        \"samples\": [\n          \"No\",\n          \"Yes\"\n        ],\n        \"semantic_type\": \"\",\n        \"description\": \"\"\n      }\n    },\n    {\n      \"column\": \"internet.InternetService\",\n      \"properties\": {\n        \"dtype\": \"category\",\n        \"num_unique_values\": 3,\n        \"samples\": [\n          \"DSL\",\n          \"Fiber optic\"\n        ],\n        \"semantic_type\": \"\",\n        \"description\": \"\"\n      }\n    },\n    {\n      \"column\": \"internet.OnlineSecurity\",\n      \"properties\": {\n        \"dtype\": \"category\",\n        \"num_unique_values\": 3,\n        \"samples\": [\n          \"No\",\n          \"Yes\"\n        ],\n        \"semantic_type\": \"\",\n        \"description\": \"\"\n      }\n    },\n    {\n      \"column\": \"internet.OnlineBackup\",\n      \"properties\": {\n        \"dtype\": \"category\",\n        \"num_unique_values\": 3,\n        \"samples\": [\n          \"Yes\",\n          \"No\"\n        ],\n        \"semantic_type\": \"\",\n        \"description\": \"\"\n      }\n    },\n    {\n      \"column\": \"internet.DeviceProtection\",\n      \"properties\": {\n        \"dtype\": \"category\",\n        \"num_unique_values\": 3,\n        \"samples\": [\n          \"No\",\n          \"Yes\"\n        ],\n        \"semantic_type\": \"\",\n        \"description\": \"\"\n      }\n    },\n    {\n      \"column\": \"internet.TechSupport\",\n      \"properties\": {\n        \"dtype\": \"category\",\n        \"num_unique_values\": 3,\n        \"samples\": [\n          \"Yes\",\n          \"No\"\n        ],\n        \"semantic_type\": \"\",\n        \"description\": \"\"\n      }\n    },\n    {\n      \"column\": \"internet.StreamingTV\",\n      \"properties\": {\n        \"dtype\": \"category\",\n        \"num_unique_values\": 3,\n        \"samples\": [\n          \"Yes\",\n          \"No\"\n        ],\n        \"semantic_type\": \"\",\n        \"description\": \"\"\n      }\n    },\n    {\n      \"column\": \"internet.StreamingMovies\",\n      \"properties\": {\n        \"dtype\": \"category\",\n        \"num_unique_values\": 3,\n        \"samples\": [\n          \"No\",\n          \"Yes\"\n        ],\n        \"semantic_type\": \"\",\n        \"description\": \"\"\n      }\n    },\n    {\n      \"column\": \"account.Contract\",\n      \"properties\": {\n        \"dtype\": \"category\",\n        \"num_unique_values\": 3,\n        \"samples\": [\n          \"One year\",\n          \"Month-to-month\"\n        ],\n        \"semantic_type\": \"\",\n        \"description\": \"\"\n      }\n    },\n    {\n      \"column\": \"account.PaperlessBilling\",\n      \"properties\": {\n        \"dtype\": \"category\",\n        \"num_unique_values\": 2,\n        \"samples\": [\n          \"No\",\n          \"Yes\"\n        ],\n        \"semantic_type\": \"\",\n        \"description\": \"\"\n      }\n    },\n    {\n      \"column\": \"account.PaymentMethod\",\n      \"properties\": {\n        \"dtype\": \"category\",\n        \"num_unique_values\": 4,\n        \"samples\": [\n          \"Electronic check\",\n          \"Bank transfer (automatic)\"\n        ],\n        \"semantic_type\": \"\",\n        \"description\": \"\"\n      }\n    },\n    {\n      \"column\": \"account.Charges.Monthly\",\n      \"properties\": {\n        \"dtype\": \"number\",\n        \"std\": 30.12957188566699,\n        \"min\": 18.25,\n        \"max\": 118.75,\n        \"num_unique_values\": 1585,\n        \"samples\": [\n          100.85,\n          91.8\n        ],\n        \"semantic_type\": \"\",\n        \"description\": \"\"\n      }\n    },\n    {\n      \"column\": \"account.Charges.Total\",\n      \"properties\": {\n        \"dtype\": \"string\",\n        \"num_unique_values\": 6531,\n        \"samples\": [\n          \"1994.3\",\n          \"600\"\n        ],\n        \"semantic_type\": \"\",\n        \"description\": \"\"\n      }\n    }\n  ]\n}"
            }
          },
          "metadata": {},
          "execution_count": 3
        }
      ],
      "source": [
        "import json\n",
        "from pandas import json_normalize\n",
        "\n",
        "with open(\"TelecomX_Data.json\", \"r\", encoding=\"utf-8\") as f:\n",
        "    data = json.load(f)\n",
        "\n",
        "df = json_normalize(data)\n",
        "df = df.drop(columns=[\"customerID\"], errors=\"ignore\")\n",
        "df.head()"
      ]
    },
    {
      "cell_type": "markdown",
      "id": "ec84c83e",
      "metadata": {
        "id": "ec84c83e"
      },
      "source": [
        "## 2. Preprocesamiento de Datos"
      ]
    },
    {
      "cell_type": "code",
      "execution_count": 4,
      "id": "79ea338a",
      "metadata": {
        "colab": {
          "base_uri": "https://localhost:8080/",
          "height": 519
        },
        "id": "79ea338a",
        "outputId": "625f267d-db07-42be-e97e-541390ee89a3"
      },
      "outputs": [
        {
          "output_type": "stream",
          "name": "stderr",
          "text": [
            "/tmp/ipython-input-4-74686426.py:3: SettingWithCopyWarning: \n",
            "A value is trying to be set on a copy of a slice from a DataFrame.\n",
            "Try using .loc[row_indexer,col_indexer] = value instead\n",
            "\n",
            "See the caveats in the documentation: https://pandas.pydata.org/pandas-docs/stable/user_guide/indexing.html#returning-a-view-versus-a-copy\n",
            "  df[\"Churn_bin\"] = df[\"Churn\"].map({\"Yes\": 1, \"No\": 0})\n",
            "/tmp/ipython-input-4-74686426.py:6: SettingWithCopyWarning: \n",
            "A value is trying to be set on a copy of a slice from a DataFrame.\n",
            "Try using .loc[row_indexer,col_indexer] = value instead\n",
            "\n",
            "See the caveats in the documentation: https://pandas.pydata.org/pandas-docs/stable/user_guide/indexing.html#returning-a-view-versus-a-copy\n",
            "  df[\"account.Charges.Monthly\"] = pd.to_numeric(df[\"account.Charges.Monthly\"], errors=\"coerce\")\n",
            "/tmp/ipython-input-4-74686426.py:7: SettingWithCopyWarning: \n",
            "A value is trying to be set on a copy of a slice from a DataFrame.\n",
            "Try using .loc[row_indexer,col_indexer] = value instead\n",
            "\n",
            "See the caveats in the documentation: https://pandas.pydata.org/pandas-docs/stable/user_guide/indexing.html#returning-a-view-versus-a-copy\n",
            "  df[\"account.Charges.Total\"] = pd.to_numeric(df[\"account.Charges.Total\"], errors=\"coerce\")\n"
          ]
        },
        {
          "output_type": "execute_result",
          "data": {
            "text/plain": [
              "Churn_bin\n",
              "0    0.73463\n",
              "1    0.26537\n",
              "Name: proportion, dtype: float64"
            ],
            "text/html": [
              "<div>\n",
              "<style scoped>\n",
              "    .dataframe tbody tr th:only-of-type {\n",
              "        vertical-align: middle;\n",
              "    }\n",
              "\n",
              "    .dataframe tbody tr th {\n",
              "        vertical-align: top;\n",
              "    }\n",
              "\n",
              "    .dataframe thead th {\n",
              "        text-align: right;\n",
              "    }\n",
              "</style>\n",
              "<table border=\"1\" class=\"dataframe\">\n",
              "  <thead>\n",
              "    <tr style=\"text-align: right;\">\n",
              "      <th></th>\n",
              "      <th>proportion</th>\n",
              "    </tr>\n",
              "    <tr>\n",
              "      <th>Churn_bin</th>\n",
              "      <th></th>\n",
              "    </tr>\n",
              "  </thead>\n",
              "  <tbody>\n",
              "    <tr>\n",
              "      <th>0</th>\n",
              "      <td>0.73463</td>\n",
              "    </tr>\n",
              "    <tr>\n",
              "      <th>1</th>\n",
              "      <td>0.26537</td>\n",
              "    </tr>\n",
              "  </tbody>\n",
              "</table>\n",
              "</div><br><label><b>dtype:</b> float64</label>"
            ]
          },
          "metadata": {},
          "execution_count": 4
        }
      ],
      "source": [
        "# Convertir target a binario\n",
        "df = df[df[\"Churn\"].isin([\"Yes\", \"No\"])]\n",
        "df[\"Churn_bin\"] = df[\"Churn\"].map({\"Yes\": 1, \"No\": 0})\n",
        "\n",
        "# Convertir numéricos\n",
        "df[\"account.Charges.Monthly\"] = pd.to_numeric(df[\"account.Charges.Monthly\"], errors=\"coerce\")\n",
        "df[\"account.Charges.Total\"] = pd.to_numeric(df[\"account.Charges.Total\"], errors=\"coerce\")\n",
        "\n",
        "# Eliminar columnas con muchos nulos o irrelevantes\n",
        "df = df.drop(columns=[\"Churn\"], errors=\"ignore\")\n",
        "\n",
        "# One-hot encoding para categóricas\n",
        "df_encoded = pd.get_dummies(df.drop(columns=[\"Churn_bin\"]), drop_first=True)\n",
        "\n",
        "# Revisar balanceo de clases\n",
        "df[\"Churn_bin\"].value_counts(normalize=True)"
      ]
    },
    {
      "cell_type": "markdown",
      "id": "a9acea03",
      "metadata": {
        "id": "a9acea03"
      },
      "source": [
        "## 3. División de Datos y Normalización"
      ]
    },
    {
      "cell_type": "code",
      "execution_count": 5,
      "id": "82b29c06",
      "metadata": {
        "id": "82b29c06"
      },
      "outputs": [],
      "source": [
        "# Separar variables predictoras y target\n",
        "X = df_encoded\n",
        "y = df[\"Churn_bin\"]\n",
        "\n",
        "# División en entrenamiento y prueba\n",
        "X_train, X_test, y_train, y_test = train_test_split(X, y, test_size=0.3, random_state=42, stratify=y)\n",
        "\n",
        "# Normalización (solo para modelos como regresión logística)\n",
        "scaler = StandardScaler()\n",
        "X_train_scaled = scaler.fit_transform(X_train)\n",
        "X_test_scaled = scaler.transform(X_test)"
      ]
    },
    {
      "cell_type": "markdown",
      "id": "01f1bfec",
      "metadata": {
        "id": "01f1bfec"
      },
      "source": [
        "## 4. Modelo 1: Regresión Logística (con normalización)"
      ]
    },
    {
      "cell_type": "code",
      "execution_count": 7,
      "id": "0d34907f",
      "metadata": {
        "colab": {
          "base_uri": "https://localhost:8080/",
          "height": 636
        },
        "id": "0d34907f",
        "outputId": "e4c26207-ef21-4024-9b6b-a9059592a0cd"
      },
      "outputs": [
        {
          "output_type": "stream",
          "name": "stdout",
          "text": [
            "Regresión Logística:\n",
            "              precision    recall  f1-score   support\n",
            "\n",
            "           0       0.84      0.89      0.87      1550\n",
            "           1       0.64      0.55      0.59       561\n",
            "\n",
            "    accuracy                           0.80      2111\n",
            "   macro avg       0.74      0.72      0.73      2111\n",
            "weighted avg       0.79      0.80      0.79      2111\n",
            "\n"
          ]
        },
        {
          "output_type": "display_data",
          "data": {
            "text/plain": [
              "<Figure size 640x480 with 2 Axes>"
            ],
            "image/png": "[encoded data removed]"
          },
          "metadata": {}
        }
      ],
      "source": [
        "# Convertimos a DataFrame para eliminar filas con NaN\n",
        "X_train_scaled_df = pd.DataFrame(X_train_scaled, columns=X.columns)\n",
        "X_test_scaled_df = pd.DataFrame(X_test_scaled, columns=X.columns)\n",
        "\n",
        "# Unimos con y para filtrar\n",
        "train_df = pd.concat([X_train_scaled_df, y_train.reset_index(drop=True)], axis=1).dropna()\n",
        "X_train_clean = train_df.drop(columns=\"Churn_bin\").values\n",
        "y_train_clean = train_df[\"Churn_bin\"].values\n",
        "\n",
        "test_df = pd.concat([X_test_scaled_df, y_test.reset_index(drop=True)], axis=1).dropna()\n",
        "X_test_clean = test_df.drop(columns=\"Churn_bin\").values\n",
        "y_test_clean = test_df[\"Churn_bin\"].values\n",
        "\n",
        "# Modelo\n",
        "log_model = LogisticRegression(max_iter=1000, random_state=42)\n",
        "log_model.fit(X_train_clean, y_train_clean)\n",
        "y_pred_log = log_model.predict(X_test_clean)\n",
        "\n",
        "print(\"Regresión Logística:\")\n",
        "print(classification_report(y_test_clean, y_pred_log))\n",
        "ConfusionMatrixDisplay.from_estimator(log_model, X_test_clean, y_test_clean)\n",
        "plt.show()"
      ]
    },
    {
      "cell_type": "markdown",
      "id": "8a69e015",
      "metadata": {
        "id": "8a69e015"
      },
      "source": [
        "## 5. Modelo 2: Random Forest (sin normalización)"
      ]
    },
    {
      "cell_type": "code",
      "execution_count": 8,
      "id": "467f4b1f",
      "metadata": {
        "colab": {
          "base_uri": "https://localhost:8080/",
          "height": 636
        },
        "id": "467f4b1f",
        "outputId": "ef6a1f60-999e-4d93-b61b-399081b04413"
      },
      "outputs": [
        {
          "output_type": "stream",
          "name": "stdout",
          "text": [
            "Random Forest:\n",
            "              precision    recall  f1-score   support\n",
            "\n",
            "           0       0.83      0.90      0.86      1552\n",
            "           1       0.62      0.48      0.54       561\n",
            "\n",
            "    accuracy                           0.79      2113\n",
            "   macro avg       0.73      0.69      0.70      2113\n",
            "weighted avg       0.77      0.79      0.78      2113\n",
            "\n"
          ]
        },
        {
          "output_type": "display_data",
          "data": {
            "text/plain": [
              "<Figure size 640x480 with 2 Axes>"
            ],
            "image/png": "[encoded data removed]"
          },
          "metadata": {}
        }
      ],
      "source": [
        "rf_model = RandomForestClassifier(n_estimators=100, random_state=42)\n",
        "rf_model.fit(X_train, y_train)\n",
        "y_pred_rf = rf_model.predict(X_test)\n",
        "\n",
        "print(\"Random Forest:\")\n",
        "print(classification_report(y_test, y_pred_rf))\n",
        "ConfusionMatrixDisplay.from_estimator(rf_model, X_test, y_test)\n",
        "plt.show()"
      ]
    },
    {
      "cell_type": "markdown",
      "id": "181bbd8f",
      "metadata": {
        "id": "181bbd8f"
      },
      "source": [
        "## 6. Importancia de Variables (Random Forest)"
      ]
    },
    {
      "cell_type": "code",
      "execution_count": 9,
      "id": "e8b6a28d",
      "metadata": {
        "colab": {
          "base_uri": "https://localhost:8080/",
          "height": 338
        },
        "id": "e8b6a28d",
        "outputId": "7cc2dcc3-9989-4282-b096-4e81b210fabc"
      },
      "outputs": [
        {
          "output_type": "display_data",
          "data": {
            "text/plain": [
              "<Figure size 640x480 with 1 Axes>"
            ],
            "image/png": "[encoded data removed]"
          },
          "metadata": {}
        }
      ],
      "source": [
        "importances = pd.Series(rf_model.feature_importances_, index=X.columns)\n",
        "importances.sort_values(ascending=False).head(10).plot(kind=\"barh\")\n",
        "plt.title(\"Top 10 Variables Más Relevantes\")\n",
        "plt.gca().invert_yaxis()\n",
        "plt.show()"
      ]
    },
    {
      "cell_type": "markdown",
      "id": "a6df6a93",
      "metadata": {
        "id": "a6df6a93"
      },
      "source": [
        "## 7. Conclusión y Recomendaciones"
      ]
    },
    {
      "cell_type": "markdown",
      "id": "b8ab0fbf",
      "metadata": {
        "id": "b8ab0fbf"
      },
      "source": [
        "**🔍 Resultados:**\n",
        "- Random Forest obtuvo mejores métricas generales que la regresión logística.\n",
        "- Las variables más importantes incluyen tipo de contrato, método de pago y servicios contratados.\n",
        "\n",
        "**🎯 Recomendaciones:**\n",
        "- Aplicar campañas de retención a clientes con contratos mensuales o pagos electrónicos.\n",
        "- Usar el modelo para identificar clientes en riesgo y tomar acciones preventivas.\n"
      ]
    },
    {
      "cell_type": "markdown",
      "source": [
        "El analisis del informe muestra que los clientes con contratos mensuales, altos gastos mensuales y ciertos métodos de pago tienen mayor probabilidad de cancelar el servicio. Los modelos predictivos, especialmente Random Forest, identificaron con buena precisión estos factores clave. Esto permite a Telecom X anticiparse al churn y enfocar estrategias de retención en clientes de riesgo. Además, variables como el tipo de servicio y la duración del contrato mostraron fuerte influencia en la cancelación, lo que refuerza la importancia de ofrecer planes más atractivos y personalizados para mejorar la fidelización del cliente y reducir las pérdidas."
      ],
      "metadata": {
        "id": "CY9pJwT2KI6A"
      },
      "id": "CY9pJwT2KI6A"
    }
  ],
  "metadata": {
    "colab": {
      "provenance": [],
      "include_colab_link": true
    },
    "language_info": {
      "name": "python"
    },
    "kernelspec": {
      "name": "python3",
      "display_name": "Python 3"
    }
  },
  "nbformat": 4,
  "nbformat_minor": 5
}